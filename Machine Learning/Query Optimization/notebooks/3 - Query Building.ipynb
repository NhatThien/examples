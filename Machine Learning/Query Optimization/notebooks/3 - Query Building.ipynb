{
 "cells": [
  {
   "cell_type": "markdown",
   "metadata": {},
   "source": [
    "# Building a complex query for MSMARCO Document\n",
    "\n",
    "In this example, we'll walk through the process of building a more complete and complex query for the MSMARCO Document dataset. This assumes that you are familiar with optimizing a basic query as shown in the \"Field Weights\" notebook. We'll be using that query and the optimal weights found there as the foundation on which we build a more complex query.\n",
    "\n",
    "As with the previous notebook and in accordance with the MSMARCO Document ranking task, we'll continue to use MRR@100 on the `dev` dataset for evaluation and comparison with other approaches."
   ]
  },
  {
   "cell_type": "code",
   "execution_count": 1,
   "metadata": {},
   "outputs": [],
   "source": [
    "%load_ext autoreload\n",
    "%autoreload 2"
   ]
  },
  {
   "cell_type": "code",
   "execution_count": 2,
   "metadata": {},
   "outputs": [],
   "source": [
    "import importlib\n",
    "import os\n",
    "import sys\n",
    "\n",
    "from elasticsearch import Elasticsearch\n",
    "from skopt.plots import plot_objective"
   ]
  },
  {
   "cell_type": "code",
   "execution_count": 3,
   "metadata": {},
   "outputs": [],
   "source": [
    "# project library\n",
    "sys.path.insert(0, os.path.abspath('..'))\n",
    "\n",
    "import qopt\n",
    "importlib.reload(qopt)\n",
    "\n",
    "from qopt.notebooks import evaluate_mrr100_dev, optimize_query_mrr100, optimize_bm25_mrr100\n",
    "from qopt.optimize import Config, set_bm25_parameters"
   ]
  },
  {
   "cell_type": "code",
   "execution_count": 4,
   "metadata": {},
   "outputs": [],
   "source": [
    "# use a local Elasticsearch or Cloud instance (https://cloud.elastic.co/)\n",
    "# es = Elasticsearch('http://localhost:9200')\n",
    "es = Elasticsearch('http://34.89.254.129:9200')"
   ]
  },
  {
   "cell_type": "markdown",
   "metadata": {},
   "source": [
    "## Starting point\n",
    "\n",
    "Let's quickly review the steps we made in the \"Field Weights\" notebook. We first used a `multi_match` `cross_fields` query which searches for terms across the `url`, `title` and `body` fields of our documents. Using the default fields weights of `1.0` on those three fields, we get the following MRR@100."
   ]
  },
  {
   "cell_type": "code",
   "execution_count": 6,
   "metadata": {},
   "outputs": [
    {
     "name": "stdout",
     "output_type": "stream",
     "text": [
      "Score: 0.2484\n",
      "CPU times: user 2.71 s, sys: 1.58 s, total: 4.29 s\n",
      "Wall time: 1min 43s\n"
     ]
    }
   ],
   "source": [
    "%%time\n",
    "\n",
    "results = evaluate_mrr100_dev(es,\n",
    "    template_id='cross_fields',\n",
    "    params={\n",
    "        'url|weight': 1.0,\n",
    "        'title|weight': 1.0,\n",
    "        'body|weight': 1.0,\n",
    "    })"
   ]
  },
  {
   "cell_type": "markdown",
   "metadata": {},
   "source": [
    "Next we found the following field weight parameters to be optimal and improved on the baseline MRR@100:"
   ]
  },
  {
   "cell_type": "code",
   "execution_count": 5,
   "metadata": {},
   "outputs": [
    {
     "name": "stdout",
     "output_type": "stream",
     "text": [
      "Score: 0.2626\n",
      "CPU times: user 2.15 s, sys: 508 ms, total: 2.66 s\n",
      "Wall time: 2min 18s\n"
     ]
    }
   ],
   "source": [
    "%%time\n",
    "\n",
    "results = evaluate_mrr100_dev(es,\n",
    "    template_id='cross_fields',\n",
    "    params={\n",
    "          'url|weight': 10.0,\n",
    "          'title|weight': 10.0,\n",
    "          'body|weight': 5.17,\n",
    "    })"
   ]
  },
  {
   "cell_type": "markdown",
   "metadata": {},
   "source": [
    "## BM25 parameters: cross_fields"
   ]
  },
  {
   "cell_type": "code",
   "execution_count": 5,
   "metadata": {},
   "outputs": [
    {
     "name": "stdout",
     "output_type": "stream",
     "text": [
      "Optimizing parameters\n",
      " - iteration 1 scored 0.2359 with: {'k1': 3.0745326497881753, 'b': 0.6367760518234173}\n",
      " - iteration 2 scored 0.2180 with: {'k1': 1.437906491461255, 'b': 0.48676844293971505}\n",
      " - iteration 3 scored 0.2414 with: {'k1': 2.354265603123957, 'b': 0.9694307966788158}\n",
      " - iteration 4 scored 0.2119 with: {'k1': 0.5156770657411466, 'b': 0.6878592720385004}\n",
      " - iteration 5 scored 0.2386 with: {'k1': 1.7714102170517205, 'b': 0.7345377865488472}\n",
      " - iteration 6 scored 0.2099 with: {'k1': 2.579562513328887, 'b': 0.3832214531924588}\n",
      " - iteration 7 scored 0.2076 with: {'k1': 0.5283983599012858, 'b': 0.5873396109981275}\n",
      " - iteration 8 scored 0.2291 with: {'k1': 3.046080659295053, 'b': 0.5539684177125992}\n",
      " - iteration 9 scored 0.2187 with: {'k1': 2.7494778113942875, 'b': 0.4510881112084779}\n",
      " - iteration 10 scored 0.2424 with: {'k1': 3.7631414066990168, 'b': 0.9824326542490145}\n",
      " - iteration 11 scored 0.2436 with: {'k1': 3.999309154667108, 'b': 0.7783799111324012}\n",
      " - iteration 12 scored 0.2484 with: {'k1': 3.084936648044309, 'b': 0.8671206864810692}\n",
      " - iteration 13 scored 0.2467 with: {'k1': 2.686522142469879, 'b': 0.834123305123494}\n",
      " - iteration 14 scored 0.2128 with: {'k1': 0.6221237102342827, 'b': 0.9976928686211524}\n",
      " - iteration 15 scored 0.1983 with: {'k1': 3.988778048815351, 'b': 0.3226045144191246}\n",
      " - iteration 16 scored 0.1795 with: {'k1': 0.5277991515205643, 'b': 0.3000175344246998}\n",
      " - iteration 17 scored 0.2482 with: {'k1': 3.3988159370931967, 'b': 0.8638766404178249}\n",
      " - iteration 18 scored 0.2318 with: {'k1': 3.9922034854558603, 'b': 0.6117015165165105}\n",
      " - iteration 19 scored 0.2489 with: {'k1': 3.1968516646284324, 'b': 0.8880498087679016}\n",
      " - iteration 20 scored 0.2379 with: {'k1': 3.0888644331014676, 'b': 0.9990123725313484}\n",
      " - iteration 21 scored 0.2475 with: {'k1': 3.1328031711350652, 'b': 0.8393331615438977}\n",
      " - iteration 22 scored 0.2471 with: {'k1': 4.0, 'b': 0.8939257196285484}\n",
      " - iteration 23 scored 0.2485 with: {'k1': 2.9500184590696032, 'b': 0.8907987244598023}\n",
      " - iteration 24 scored 0.2415 with: {'k1': 1.5795164829130282, 'b': 0.8741646301630097}\n",
      " - iteration 25 scored 0.2326 with: {'k1': 1.9330099114484403, 'b': 0.6133741197972191}\n",
      " - iteration 26 scored 0.2154 with: {'k1': 0.505115242822999, 'b': 0.8665168497826556}\n",
      " - iteration 27 scored 0.2185 with: {'k1': 3.993071841973591, 'b': 0.48126192823955727}\n",
      " - iteration 28 scored 0.2487 with: {'k1': 3.322943599170273, 'b': 0.8919089994317091}\n",
      " - iteration 29 scored 0.2488 with: {'k1': 3.225197908307276, 'b': 0.889077894925165}\n",
      " - iteration 30 scored 0.2489 with: {'k1': 3.2110375121506927, 'b': 0.8894304030381579}\n",
      " - iteration 31 scored 0.2309 with: {'k1': 1.5669789303628443, 'b': 0.9991495942249522}\n",
      " - iteration 32 scored 0.2488 with: {'k1': 3.206055555815598, 'b': 0.8905154984202579}\n",
      " - iteration 33 scored 0.2415 with: {'k1': 2.554914565616824, 'b': 0.7272624190959173}\n",
      " - iteration 34 scored 0.1961 with: {'k1': 1.7702852573295864, 'b': 0.3015599674770666}\n",
      " - iteration 35 scored 0.2488 with: {'k1': 3.1987720111477422, 'b': 0.8906846501402228}\n",
      " - iteration 36 scored 0.2414 with: {'k1': 3.492694143214192, 'b': 0.7331742547676823}\n",
      " - iteration 37 scored 0.2487 with: {'k1': 3.1917982727926346, 'b': 0.8904805584633129}\n",
      " - iteration 38 scored 0.2391 with: {'k1': 3.9977038094685673, 'b': 0.9952652533786639}\n",
      " - iteration 39 scored 0.2460 with: {'k1': 2.156319529131395, 'b': 0.8852667803716732}\n",
      " - iteration 40 scored 0.2486 with: {'k1': 3.3749084689979516, 'b': 0.8985089872811176}\n",
      " - iteration 41 scored 0.2486 with: {'k1': 3.185723768245941, 'b': 0.8899800149094697}\n",
      " - iteration 42 scored 0.2489 with: {'k1': 3.2112517425455485, 'b': 0.8889248144358053}\n",
      " - iteration 43 scored 0.1976 with: {'k1': 3.1357466242534144, 'b': 0.3020509610211582}\n",
      " - iteration 44 scored 0.2488 with: {'k1': 3.2093728739410055, 'b': 0.8891703969619211}\n",
      " - iteration 45 scored 0.1953 with: {'k1': 0.5055162621878697, 'b': 0.4301887325736353}\n",
      " - iteration 46 scored 0.2489 with: {'k1': 3.2061055370275424, 'b': 0.8889747115383375}\n",
      " - iteration 47 scored 0.2325 with: {'k1': 1.1643969994937573, 'b': 0.784292481873528}\n",
      " - iteration 48 scored 0.2488 with: {'k1': 3.2091287354353186, 'b': 0.8891402883217305}\n",
      " - iteration 49 scored 0.2489 with: {'k1': 3.204253872222391, 'b': 0.8887562496440149}\n",
      " - iteration 50 scored 0.2489 with: {'k1': 3.2043395512869233, 'b': 0.8888487090446753}\n",
      "Best score: 0.2489\n",
      "Best params: {'k1': 3.2043395512869233, 'b': 0.8888487090446753}\n",
      "Final params: {'url|weight': 1.0, 'title|weight': 1.0, 'body|weight': 1.0, 'k1': 3.2043395512869233, 'b': 0.8888487090446753}\n",
      "\n",
      "CPU times: user 4min 55s, sys: 1min 27s, total: 6min 22s\n",
      "Wall time: 1h 18min 44s\n"
     ]
    }
   ],
   "source": [
    "%%time\n",
    "\n",
    "best_score_a, best_params_a, final_params_a, metadata_a = optimize_bm25_mrr100(es,\n",
    "    template_id='cross_fields',\n",
    "    default_params={\n",
    "        'url|weight': 1.0,\n",
    "        'title|weight': 1.0,\n",
    "        'body|weight': 1.0,\n",
    "    },\n",
    "    verbose=True)"
   ]
  },
  {
   "cell_type": "code",
   "execution_count": 6,
   "metadata": {},
   "outputs": [
    {
     "data": {
      "image/png": "[encoded data removed]",
      "text/plain": [
       "<Figure size 288x288 with 4 Axes>"
      ]
     },
     "metadata": {
      "needs_background": "light"
     },
     "output_type": "display_data"
    }
   ],
   "source": [
    "_ = plot_objective(metadata_a, sample_source='result')"
   ]
  },
  {
   "cell_type": "code",
   "execution_count": 7,
   "metadata": {},
   "outputs": [
    {
     "name": "stdout",
     "output_type": "stream",
     "text": [
      "Score: 0.2629\n",
      "CPU times: user 2.31 s, sys: 612 ms, total: 2.92 s\n",
      "Wall time: 46.8 s\n"
     ]
    }
   ],
   "source": [
    "%%time\n",
    "\n",
    "set_bm25_parameters(es, 'msmarco-document', **best_params_a)\n",
    "results = evaluate_mrr100_dev(es, template_id='cross_fields', params=final_params_a)"
   ]
  },
  {
   "cell_type": "markdown",
   "metadata": {},
   "source": [
    "## BM25 parameters: best_fields"
   ]
  },
  {
   "cell_type": "code",
   "execution_count": 8,
   "metadata": {},
   "outputs": [
    {
     "name": "stdout",
     "output_type": "stream",
     "text": [
      "Optimizing parameters\n",
      " - iteration 1 scored 0.2422 with: {'k1': 3.3532630652384965, 'b': 0.7312048765814982}\n",
      " - iteration 2 scored 0.2463 with: {'k1': 1.9167231434226601, 'b': 0.6838397619151227}\n",
      " - iteration 3 scored 0.2611 with: {'k1': 0.9794155724438198, 'b': 0.9767772571016957}\n",
      " - iteration 4 scored 0.2553 with: {'k1': 1.834707176756085, 'b': 0.8206718012795733}\n",
      " - iteration 5 scored 0.2408 with: {'k1': 1.915719744680421, 'b': 0.6007166027107171}\n",
      " - iteration 6 scored 0.2444 with: {'k1': 0.7472705400825247, 'b': 0.541315419337441}\n",
      " - iteration 7 scored 0.2576 with: {'k1': 0.6833953752864663, 'b': 0.8453494163122925}\n",
      " - iteration 8 scored 0.2353 with: {'k1': 1.8333216927850517, 'b': 0.5416550134235754}\n",
      " - iteration 9 scored 0.2548 with: {'k1': 0.5627359156658823, 'b': 0.9612832259289152}\n",
      " - iteration 10 scored 0.2281 with: {'k1': 2.4879943372200706, 'b': 0.5100240684971907}\n",
      " - iteration 11 scored 0.2466 with: {'k1': 2.7483909852887245, 'b': 1.0}\n",
      " - iteration 12 scored 0.2398 with: {'k1': 4.0, 'b': 1.0}\n",
      " - iteration 13 scored 0.2566 with: {'k1': 1.4890389916200681, 'b': 1.0}\n",
      " - iteration 14 scored 0.2237 with: {'k1': 0.506953505853782, 'b': 0.3078143542955377}\n",
      " - iteration 15 scored 0.1985 with: {'k1': 3.9910366969220563, 'b': 0.32105699147946254}\n",
      " - iteration 16 scored 0.2518 with: {'k1': 0.5, 'b': 0.8599234769979143}\n",
      " - iteration 17 scored 0.2526 with: {'k1': 0.5, 'b': 1.0}\n",
      " - iteration 18 scored 0.2484 with: {'k1': 0.5104964378143553, 'b': 0.7228425877521942}\n",
      " - iteration 19 scored 0.2592 with: {'k1': 1.7704902696545843, 'b': 0.8929780930596996}\n",
      " - iteration 20 scored 0.2455 with: {'k1': 3.986905694507633, 'b': 0.8079245773389252}\n",
      " - iteration 21 scored 0.2330 with: {'k1': 3.9838301085747854, 'b': 0.6205359254562917}\n",
      " - iteration 22 scored 0.2622 with: {'k1': 1.3126768219303144, 'b': 0.9134372092672505}\n",
      " - iteration 23 scored 0.2618 with: {'k1': 1.1863523086801342, 'b': 0.7772605568325884}\n",
      " - iteration 24 scored 0.2640 with: {'k1': 1.1417690329619945, 'b': 0.8669193904561707}\n",
      " - iteration 25 scored 0.2104 with: {'k1': 1.5029935710878923, 'b': 0.30095943269564757}\n",
      " - iteration 26 scored 0.2508 with: {'k1': 2.563808198073784, 'b': 0.823267752690904}\n",
      " - iteration 27 scored 0.2632 with: {'k1': 1.041795038805887, 'b': 0.8818425515068444}\n",
      " - iteration 28 scored 0.2496 with: {'k1': 2.182678427890848, 'b': 0.9973273612026103}\n",
      " - iteration 29 scored 0.2635 with: {'k1': 1.1669688370970226, 'b': 0.8650058328466603}\n",
      " - iteration 30 scored 0.1993 with: {'k1': 2.889250144480532, 'b': 0.30303900881061674}\n",
      " - iteration 31 scored 0.2640 with: {'k1': 1.1548144292154383, 'b': 0.8653104615526468}\n",
      " - iteration 32 scored 0.2638 with: {'k1': 1.1440795991896238, 'b': 0.8603659498390002}\n",
      " - iteration 33 scored 0.2634 with: {'k1': 1.1237067173894406, 'b': 0.8473533238853277}\n",
      " - iteration 34 scored 0.2633 with: {'k1': 1.1849909413920667, 'b': 0.8565316106527943}\n",
      " - iteration 35 scored 0.2637 with: {'k1': 1.099721640286392, 'b': 0.8743689412058588}\n",
      " - iteration 36 scored 0.2506 with: {'k1': 3.4095705936138114, 'b': 0.9243721857614522}\n",
      " - iteration 37 scored 0.2630 with: {'k1': 1.098185406161361, 'b': 0.8581166706701933}\n",
      " - iteration 38 scored 0.2562 with: {'k1': 1.1261527084938123, 'b': 0.6512754106857324}\n",
      " - iteration 39 scored 0.2232 with: {'k1': 3.3535350720148767, 'b': 0.5021365240760132}\n",
      " - iteration 40 scored 0.2635 with: {'k1': 1.119078748871941, 'b': 0.8879995527893518}\n",
      " - iteration 41 scored 0.2636 with: {'k1': 1.1301400001655457, 'b': 0.8823467323442167}\n",
      " - iteration 42 scored 0.2425 with: {'k1': 2.6672840399024387, 'b': 0.6762034621668893}\n",
      " - iteration 43 scored 0.2633 with: {'k1': 1.137988767182716, 'b': 0.878707825493878}\n",
      " - iteration 44 scored 0.2425 with: {'k1': 3.4536775106200936, 'b': 0.9991977669808236}\n",
      " - iteration 45 scored 0.2632 with: {'k1': 1.1946862596724204, 'b': 0.8633003857053259}\n",
      " - iteration 46 scored 0.2640 with: {'k1': 1.1103205688813689, 'b': 0.8823171482200693}\n",
      " - iteration 47 scored 0.2637 with: {'k1': 1.102176730162714, 'b': 0.8879173964800284}\n",
      " - iteration 48 scored 0.2371 with: {'k1': 1.0419249113051432, 'b': 0.4321728008691417}\n",
      " - iteration 49 scored 0.2530 with: {'k1': 3.002435689380337, 'b': 0.8706858768576597}\n",
      " - iteration 50 scored 0.2638 with: {'k1': 1.100833030115504, 'b': 0.887006884244121}\n",
      "Best score: 0.2640\n",
      "Best params: {'k1': 1.1417690329619945, 'b': 0.8669193904561707}\n",
      "Final params: {'url|weight': 1.0, 'title|weight': 1.0, 'body|weight': 1.0, 'operator': 'OR', 'minimum_should_match': '1', 'k1': 1.1417690329619945, 'b': 0.8669193904561707}\n",
      "\n",
      "CPU times: user 4min 48s, sys: 1min 21s, total: 6min 9s\n",
      "Wall time: 1h 2min 48s\n"
     ]
    }
   ],
   "source": [
    "%%time\n",
    "\n",
    "best_score_0, best_params_0, final_params_0, metadata_0 = optimize_bm25_mrr100(es,\n",
    "    template_id='best_fields',\n",
    "    default_params={\n",
    "        'url|weight': 1.0,\n",
    "        'title|weight': 1.0,\n",
    "        'body|weight': 1.0,\n",
    "        'operator': 'OR',\n",
    "        'minimum_should_match': '1',\n",
    "    },\n",
    "    verbose=True)"
   ]
  },
  {
   "cell_type": "code",
   "execution_count": 9,
   "metadata": {},
   "outputs": [
    {
     "data": {
      "image/png": "[encoded data removed]",
      "text/plain": [
       "<Figure size 288x288 with 4 Axes>"
      ]
     },
     "metadata": {
      "needs_background": "light"
     },
     "output_type": "display_data"
    }
   ],
   "source": [
    "_ = plot_objective(metadata_0, sample_source='result')"
   ]
  },
  {
   "cell_type": "code",
   "execution_count": 10,
   "metadata": {},
   "outputs": [
    {
     "name": "stdout",
     "output_type": "stream",
     "text": [
      "Score: 0.2829\n",
      "CPU times: user 2.42 s, sys: 1.02 s, total: 3.44 s\n",
      "Wall time: 36.5 s\n"
     ]
    }
   ],
   "source": [
    "%%time\n",
    "\n",
    "# set_bm25_parameters(es, 'msmarco-document', **{'k1': 1.2, 'b': 0.75})\n",
    "\n",
    "set_bm25_parameters(es, 'msmarco-document', **best_params_0)\n",
    "results = evaluate_mrr100_dev(es, template_id='best_fields', params=final_params_0)"
   ]
  },
  {
   "cell_type": "code",
   "execution_count": 12,
   "metadata": {},
   "outputs": [
    {
     "name": "stdout",
     "output_type": "stream",
     "text": [
      "Score: 0.2655\n",
      "CPU times: user 2.27 s, sys: 837 ms, total: 3.11 s\n",
      "Wall time: 45.8 s\n"
     ]
    }
   ],
   "source": [
    "%%time\n",
    "\n",
    "# best_fields with BM25 params from cross_fields\n",
    "\n",
    "set_bm25_parameters(es, 'msmarco-document', **best_params_a)\n",
    "results = evaluate_mrr100_dev(es, template_id='best_fields', params=final_params_0)"
   ]
  },
  {
   "cell_type": "code",
   "execution_count": 13,
   "metadata": {},
   "outputs": [
    {
     "name": "stdout",
     "output_type": "stream",
     "text": [
      "Score: 0.2475\n",
      "CPU times: user 2.57 s, sys: 899 ms, total: 3.47 s\n",
      "Wall time: 42.8 s\n"
     ]
    }
   ],
   "source": [
    "%%time\n",
    "\n",
    "# cross_fields with BM25 params from best_fields\n",
    "\n",
    "set_bm25_parameters(es, 'msmarco-document', **best_params_0)\n",
    "results = evaluate_mrr100_dev(es, template_id='cross_fields', params=final_params_a)"
   ]
  },
  {
   "cell_type": "markdown",
   "metadata": {},
   "source": [
    "## Alternative query: best_fields\n",
    "\n",
    "The first query type we used was a `multi_match` `cross_fields` query. This searches for query terms individually across each of the three document fields. For example, given a query string \"impact of the success of the manhattan project\", we search for each of the query terms in each of the fields. So we could have \"impact\" matching the body only, while \"manhattan\" could match all three fields. Due to the nature of the queries which are all questions, this might not be the best query type to use.\n",
    "\n",
    "In this step, we're going to try using the `best_fields` variant of the `multi_match` query. This variant will look across fields but will only return the field and score with the best matches. We will also experiment in this query with modifying a few parameters of the query that are sometimes hard to guess at. Specifically, we'll explore which `operator` parameter is best (`OR`, `AND`) and what the minimum number of matching terms per field should be using `minimum_should_match`. As you can guess, this is now a much bigger parameter space than the previous example, so it's even more important that we use an optimization method that is a big smarter than just a grid search.\n",
    "\n",
    "Here's the baseline query with default parameter values."
   ]
  },
  {
   "cell_type": "code",
   "execution_count": 10,
   "metadata": {},
   "outputs": [
    {
     "name": "stdout",
     "output_type": "stream",
     "text": [
      "Score: 0.2799\n",
      "CPU times: user 2.3 s, sys: 472 ms, total: 2.77 s\n",
      "Wall time: 29.3 s\n"
     ]
    }
   ],
   "source": [
    "%%time\n",
    "\n",
    "results = evaluate_mrr100_dev(es,\n",
    "    template_id='best_fields',\n",
    "    params={\n",
    "        'url|weight': 1.0,\n",
    "        'title|weight': 1.0,\n",
    "        'body|weight': 1.0,\n",
    "        'operator': 'OR',\n",
    "        'minimum_should_match': '1',\n",
    "    })"
   ]
  },
  {
   "cell_type": "markdown",
   "metadata": {},
   "source": [
    "That's pretty impressive for the baseline query and even beats our optimized `cross_fields`.\n",
    "\n",
    "Let's try and optimize this now. Looking at the parameters, it's actually a pretty complex and large parameters space to try and optimize all at once, so let's try breaking this into two steps to see if we can get some more traction.\n",
    "\n",
    "First we'll optimize the field weights, and then we'll select the `operator` and `minimum_should_match` parameters in a step after that."
   ]
  },
  {
   "cell_type": "code",
   "execution_count": 24,
   "metadata": {},
   "outputs": [
    {
     "name": "stdout",
     "output_type": "stream",
     "text": [
      "Optimizing parameters\n",
      " - iteration 1 scored 0.2248 with: {'url|weight': 3.1343275920195506, 'title|weight': 2.0455766407526292, 'body|weight': 3.988610729048018}\n",
      " - iteration 2 scored 0.2216 with: {'url|weight': 3.447148412216394, 'title|weight': 2.6569555509116376, 'body|weight': 9.594735682992612}\n",
      " - iteration 3 scored 0.2411 with: {'url|weight': 4.904752948066944, 'title|weight': 5.489906983930832, 'body|weight': 5.567540784194106}\n",
      " - iteration 4 scored 0.2376 with: {'url|weight': 5.8499481215351965, 'title|weight': 8.390865010326008, 'body|weight': 9.274098114633116}\n",
      " - iteration 5 scored 0.1365 with: {'url|weight': 7.085249845407454, 'title|weight': 1.8612314899667517, 'body|weight': 1.8204040629577103}\n",
      " - iteration 6 scored 0.2159 with: {'url|weight': 6.370189615304595, 'title|weight': 6.803935422294797, 'body|weight': 0.08949162457882133}\n",
      " - iteration 7 scored 0.2107 with: {'url|weight': 8.67442316354557, 'title|weight': 8.344380690775235, 'body|weight': 0.6267412924962491}\n",
      " - iteration 8 scored 0.2181 with: {'url|weight': 5.5918696499815015, 'title|weight': 8.477060575034677, 'body|weight': 4.57555368125742}\n",
      " - iteration 9 scored 0.2257 with: {'url|weight': 5.130830738872905, 'title|weight': 1.782146003852422, 'body|weight': 5.981456033129296}\n",
      " - iteration 10 scored 0.2216 with: {'url|weight': 7.733801880236935, 'title|weight': 2.143393905389142, 'body|weight': 7.135121579139838}\n",
      " - iteration 11 scored 0.2476 with: {'url|weight': 9.682062830345467, 'title|weight': 10.0, 'body|weight': 8.74596983435219}\n",
      " - iteration 12 scored 0.2214 with: {'url|weight': 0.6464620245751739, 'title|weight': 2.1372087287026047, 'body|weight': 8.17262012033505}\n",
      " - iteration 13 scored 0.2357 with: {'url|weight': 0.11271291104975717, 'title|weight': 10.0, 'body|weight': 7.004347058966578}\n",
      " - iteration 14 scored 0.2298 with: {'url|weight': 9.787604354640125, 'title|weight': 8.142390371296251, 'body|weight': 8.068096795633549}\n",
      " - iteration 15 scored 0.2216 with: {'url|weight': 2.480411805679454, 'title|weight': 0.0, 'body|weight': 5.18635386183667}\n",
      " - iteration 16 scored 0.2214 with: {'url|weight': 1.5496690826145885, 'title|weight': 10.0, 'body|weight': 5.899626988876371}\n",
      " - iteration 17 scored 0.2214 with: {'url|weight': 0.0, 'title|weight': 0.0, 'body|weight': 8.873292815312777}\n",
      " - iteration 18 scored 0.2392 with: {'url|weight': 0.473051152302685, 'title|weight': 10.0, 'body|weight': 10.0}\n",
      " - iteration 19 scored 0.2030 with: {'url|weight': 3.095066692784325, 'title|weight': 10.0, 'body|weight': 0.0}\n",
      " - iteration 20 scored 0.2421 with: {'url|weight': 3.7575665205557747, 'title|weight': 10.0, 'body|weight': 8.884561036268918}\n",
      " - iteration 21 scored 0.2097 with: {'url|weight': 6.949375641033827, 'title|weight': 10.0, 'body|weight': 3.439510652624322}\n",
      " - iteration 22 scored 0.2415 with: {'url|weight': 2.518331685513658, 'title|weight': 10.0, 'body|weight': 7.575320056871906}\n",
      " - iteration 23 scored 0.2391 with: {'url|weight': 0.6508704564957845, 'title|weight': 4.462339845594098, 'body|weight': 4.637412314423342}\n",
      " - iteration 24 scored 0.2220 with: {'url|weight': 9.899090051814147, 'title|weight': 6.245501649404492, 'body|weight': 10.0}\n",
      " - iteration 25 scored 0.2318 with: {'url|weight': 0.17445057539139605, 'title|weight': 5.584123423796759, 'body|weight': 6.7097184366751055}\n",
      " - iteration 26 scored 0.2242 with: {'url|weight': 7.612283638095365, 'title|weight': 0.0, 'body|weight': 10.0}\n",
      " - iteration 27 scored 0.1993 with: {'url|weight': 7.3055850372645805, 'title|weight': 3.3606162284009806, 'body|weight': 5.215284673639418}\n",
      " - iteration 28 scored 0.2216 with: {'url|weight': 3.2020396311506554, 'title|weight': 1.711877647373556, 'body|weight': 9.91522191687379}\n",
      " - iteration 29 scored 0.2399 with: {'url|weight': 10.0, 'title|weight': 9.908826232347415, 'body|weight': 9.261028272811172}\n",
      " - iteration 30 scored 0.2253 with: {'url|weight': 7.6703166244200585, 'title|weight': 5.421509885981716, 'body|weight': 9.003786770291736}\n",
      " - iteration 31 scored 0.2464 with: {'url|weight': 7.3221456070109525, 'title|weight': 10.0, 'body|weight': 7.934769056717531}\n",
      " - iteration 32 scored 0.2122 with: {'url|weight': 4.023371579718721, 'title|weight': 5.498946564740798, 'body|weight': 2.094195268953972}\n",
      " - iteration 33 scored 0.2024 with: {'url|weight': 0.0, 'title|weight': 3.3855332134228746, 'body|weight': 0.0}\n",
      " - iteration 34 scored 0.2347 with: {'url|weight': 3.7657401343352666, 'title|weight': 6.306104702024188, 'body|weight': 7.10519341895901}\n",
      " - iteration 35 scored 0.2404 with: {'url|weight': 7.0981464684829545, 'title|weight': 10.0, 'body|weight': 10.0}\n",
      " - iteration 36 scored 0.2327 with: {'url|weight': 10.0, 'title|weight': 10.0, 'body|weight': 6.611133702855123}\n",
      " - iteration 37 scored 0.2253 with: {'url|weight': 7.329642148999836, 'title|weight': 4.434720279808771, 'body|weight': 9.053668957853153}\n",
      " - iteration 38 scored 0.2250 with: {'url|weight': 2.7274585533031424, 'title|weight': 4.024561072112821, 'body|weight': 5.614539253344031}\n",
      " - iteration 39 scored 0.2059 with: {'url|weight': 2.8413162304866866, 'title|weight': 4.481817381859939, 'body|weight': 0.9437453822513571}\n",
      " - iteration 40 scored 0.2216 with: {'url|weight': 0.0, 'title|weight': 1.9761672916607336, 'body|weight': 4.860271007854036}\n",
      " - iteration 41 scored 0.2458 with: {'url|weight': 0.0, 'title|weight': 5.488050320780051, 'body|weight': 4.385411292115498}\n",
      " - iteration 42 scored 0.2410 with: {'url|weight': 0.503817446140318, 'title|weight': 6.692316749753386, 'body|weight': 4.9618317045019085}\n",
      " - iteration 43 scored 0.2262 with: {'url|weight': 0.0, 'title|weight': 7.3088432854175, 'body|weight': 10.0}\n",
      " - iteration 44 scored 0.2095 with: {'url|weight': 0.0, 'title|weight': 6.455161588534251, 'body|weight': 2.8480902479315096}\n",
      " - iteration 45 scored 0.1998 with: {'url|weight': 10.0, 'title|weight': 7.362817282838692, 'body|weight': 6.12530597055909}\n",
      " - iteration 46 scored 0.2465 with: {'url|weight': 8.382426984522073, 'title|weight': 10.0, 'body|weight': 8.670816603851732}\n",
      " - iteration 47 scored 0.2315 with: {'url|weight': 1.9387559550410707, 'title|weight': 6.738680635125954, 'body|weight': 7.783955363056557}\n",
      " - iteration 48 scored 0.2415 with: {'url|weight': 0.0, 'title|weight': 5.358592319600971, 'body|weight': 4.798148945941741}\n",
      " - iteration 49 scored 0.2181 with: {'url|weight': 10.0, 'title|weight': 0.0, 'body|weight': 8.680616712619418}\n",
      " - iteration 50 scored 0.2186 with: {'url|weight': 7.06594446388271, 'title|weight': 4.654235052112568, 'body|weight': 6.030837118280752}\n",
      "Best score: 0.2476\n",
      "Best params: {'url|weight': 9.682062830345467, 'title|weight': 10.0, 'body|weight': 8.74596983435219}\n",
      "Final params: {'operator': 'OR', 'minimum_should_match': '1', 'url|weight': 9.682062830345467, 'title|weight': 10.0, 'body|weight': 8.74596983435219}\n",
      "\n",
      "CPU times: user 1min 10s, sys: 14.7 s, total: 1min 25s\n",
      "Wall time: 9min 40s\n"
     ]
    }
   ],
   "source": [
    "%%time\n",
    "\n",
    "best_score_1, best_params_1, final_params_1, metadata_1 = optimize_query_mrr100(es,\n",
    "    template_id='best_fields',\n",
    "    config_space=Config.parse({\n",
    "        'num_iterations': 50,\n",
    "        'num_initial_points': 10,\n",
    "        'space': {\n",
    "            'url|weight': { 'low': 0.0, 'high': 10.0 },\n",
    "            'title|weight': { 'low': 0.0, 'high': 10.0 },\n",
    "            'body|weight': { 'low': 0.0, 'high': 10.0 },\n",
    "        },\n",
    "        'default': {\n",
    "            'operator': 'OR',\n",
    "            'minimum_should_match': '1'\n",
    "        }\n",
    "    }),\n",
    "    verbose=True)"
   ]
  },
  {
   "cell_type": "code",
   "execution_count": 26,
   "metadata": {},
   "outputs": [
    {
     "data": {
      "image/png": "[encoded data removed]",
      "text/plain": [
       "<Figure size 432x432 with 9 Axes>"
      ]
     },
     "metadata": {
      "needs_background": "light"
     },
     "output_type": "display_data"
    }
   ],
   "source": [
    "_ = plot_objective(metadata_1, sample_source='result')"
   ]
  },
  {
   "cell_type": "markdown",
   "metadata": {},
   "source": [
    "Interesting that the best weights are almost equal across the fields. This starts to explain how the baseline query with all weights equal was so good. Let's run the evaluation with just the tuned weights to see how much we improve over the baseline."
   ]
  },
  {
   "cell_type": "code",
   "execution_count": 28,
   "metadata": {},
   "outputs": [
    {
     "name": "stdout",
     "output_type": "stream",
     "text": [
      "Score: 0.2865\n",
      "CPU times: user 2.33 s, sys: 1.25 s, total: 3.58 s\n",
      "Wall time: 1min 18s\n"
     ]
    }
   ],
   "source": [
    "%%time\n",
    "\n",
    "results = evaluate_mrr100_dev(es, template_id='best_fields', params=final_params_1)"
   ]
  },
  {
   "cell_type": "markdown",
   "metadata": {},
   "source": [
    "Ok, so we have some progress, albeit not very much. Let's continue and try optimizing the last parameters of this query to see if we get a bigger boost.\n",
    "\n",
    "We can now take the best parameters found for the field weights, set them as constants or `default` values for the template, and just focus the next optimization on picking the last parameters.\n",
    "\n",
    "Since we have a pretty small search space with just a few possible values per pameter, if we just give sequences, the optimizer will actually choose a grid search here and test every possible combination of the two parameters."
   ]
  },
  {
   "cell_type": "code",
   "execution_count": 35,
   "metadata": {},
   "outputs": [
    {
     "name": "stdout",
     "output_type": "stream",
     "text": [
      "Optimizing parameters\n",
      " - iteration 1 scored 0.2494 with: {'minimum_should_match': 1, 'operator': 'OR'}\n",
      " - iteration 2 scored 0.0000 with: {'minimum_should_match': 1, 'operator': 'AND'}\n",
      " - iteration 3 scored 0.2354 with: {'minimum_should_match': 2, 'operator': 'OR'}\n",
      " - iteration 4 scored 0.0000 with: {'minimum_should_match': 2, 'operator': 'AND'}\n",
      " - iteration 5 scored 0.1981 with: {'minimum_should_match': 3, 'operator': 'OR'}\n",
      " - iteration 6 scored 0.0000 with: {'minimum_should_match': 3, 'operator': 'AND'}\n",
      " - iteration 7 scored 0.1389 with: {'minimum_should_match': 4, 'operator': 'OR'}\n",
      " - iteration 8 scored 0.0000 with: {'minimum_should_match': 4, 'operator': 'AND'}\n",
      " - iteration 9 scored 0.0828 with: {'minimum_should_match': 5, 'operator': 'OR'}\n",
      " - iteration 10 scored 0.0000 with: {'minimum_should_match': 5, 'operator': 'AND'}\n",
      "Best score: 0.2494\n",
      "Best params: {'minimum_should_match': 1, 'operator': 'OR'}\n",
      "Final params: {'url|weight': 9.682062830345467, 'title|weight': 10.0, 'body|weight': 8.74596983435219, 'minimum_should_match': 1, 'operator': 'OR'}\n",
      "\n",
      "CPU times: user 2.59 s, sys: 1.27 s, total: 3.86 s\n",
      "Wall time: 3min 21s\n"
     ]
    }
   ],
   "source": [
    "%%time\n",
    "\n",
    "best_score_2, best_params_2, final_params_2, metadata_2 = optimize_query_mrr100(es,\n",
    "    template_id='best_fields',\n",
    "    config_space=Config.parse({\n",
    "        'num_iterations': 50,\n",
    "        'num_initial_points': 10,\n",
    "        'space': {\n",
    "            'operator': ['OR', 'AND'],\n",
    "            'minimum_should_match': [1, 2, 3, 4, 5],\n",
    "        },\n",
    "        'default': best_params_1\n",
    "    }),\n",
    "    verbose=True)"
   ]
  },
  {
   "cell_type": "markdown",
   "metadata": {},
   "source": [
    "Even after trying a bunch of options, it turns out that the defaults for `operator` and `minimum_should_match` are actually the best! Even though we didn't find better values, we did learn something in the process.\n",
    "\n",
    "We now don't need to do another evaluation since there was no change after tuning these last two operators."
   ]
  },
  {
   "cell_type": "markdown",
   "metadata": {},
   "source": [
    "## Combining queries\n",
    "\n",
    "We've seen the process to optimize field weights on two different `multi_match` queries but it would be interesting to see if combining them with in a parent `bool` query might actually result in even better MRR@100. Let's give it a shot and find out.\n",
    "\n",
    "We'll combine the two queries by using a `bool` query with a `should` clause. That means that we don't require both queries to match documents, but we will combine the scores when they do. Using the `combined` template, we can use the previously discovered optimal field weights, and add some new parameters for query `boost`s to decide how we should combine these two queries.\n",
    "\n",
    "Side note: Combining queries in this way may improve relevance as measured by MRR@100, but it will hurt performance and the query times will be quite a lot higher than with a single, simpler query. Keep this in mind when building complex queries for production!\n",
    "\n",
    "Here's the baselines that we'll compare against when trying to combine these queries in an optimal way. First a combined query with all parameters default values, and second a combined query using the optimal field weights previously found."
   ]
  },
  {
   "cell_type": "code",
   "execution_count": 57,
   "metadata": {},
   "outputs": [
    {
     "name": "stdout",
     "output_type": "stream",
     "text": [
      "Score: 0.2798\n",
      "CPU times: user 5.01 s, sys: 1.66 s, total: 6.66 s\n",
      "Wall time: 6min 52s\n"
     ]
    }
   ],
   "source": [
    "%%time\n",
    "\n",
    "results = evaluate_mrr100_dev(es,\n",
    "    template_id='combined',\n",
    "    params={\n",
    "        # default weights\n",
    "        'multi_match|cross_fields|url|weight': 1.0,\n",
    "        'multi_match|cross_fields|title|weight': 1.0,\n",
    "        'multi_match|cross_fields|body|weight': 1.0,\n",
    "        'multi_match|best_fields|url|weight': 1.0,\n",
    "        'multi_match|best_fields|title|weight': 1.0,\n",
    "        'multi_match|best_fields|body|weight': 1.0,\n",
    "        # default boosts\n",
    "        'multi_match|cross_fields|boost': 1.0,\n",
    "        'multi_match|best_fields|boost': 1.0,\n",
    "    })"
   ]
  },
  {
   "cell_type": "markdown",
   "metadata": {},
   "source": [
    "Not bad, but I think we can do better by using the optimal field weights."
   ]
  },
  {
   "cell_type": "code",
   "execution_count": 16,
   "metadata": {},
   "outputs": [
    {
     "name": "stdout",
     "output_type": "stream",
     "text": [
      "Score: 0.3027\n",
      "CPU times: user 4.77 s, sys: 1.62 s, total: 6.4 s\n",
      "Wall time: 6min 8s\n"
     ]
    }
   ],
   "source": [
    "%%time\n",
    "\n",
    "# BM25 params from default ES\n",
    "set_bm25_parameters(es, 'msmarco-document', **{'k1': 1.2, 'b': 0.75})\n",
    "\n",
    "results = evaluate_mrr100_dev(es,\n",
    "    template_id='combined',\n",
    "    params={\n",
    "        # optimal weights\n",
    "        'multi_match|cross_fields|url|weight': 10.0,\n",
    "        'multi_match|cross_fields|title|weight': 10.0,\n",
    "        'multi_match|cross_fields|body|weight': 5.17,\n",
    "        'multi_match|best_fields|url|weight': 9.682,\n",
    "        'multi_match|best_fields|title|weight': 10.0,\n",
    "        'multi_match|best_fields|body|weight': 8.746,\n",
    "        # default boosts\n",
    "        'multi_match|cross_fields|boost': 1.0,\n",
    "        'multi_match|best_fields|boost': 1.0,\n",
    "    })"
   ]
  },
  {
   "cell_type": "code",
   "execution_count": 15,
   "metadata": {},
   "outputs": [
    {
     "name": "stdout",
     "output_type": "stream",
     "text": [
      "Score: 0.2728\n",
      "CPU times: user 3.79 s, sys: 1.01 s, total: 4.79 s\n",
      "Wall time: 6min 21s\n"
     ]
    }
   ],
   "source": [
    "%%time\n",
    "\n",
    "# BM25 params from cross_fields\n",
    "set_bm25_parameters(es, 'msmarco-document', **best_params_a)\n",
    "\n",
    "results = evaluate_mrr100_dev(es,\n",
    "    template_id='combined',\n",
    "    params={\n",
    "        # optimal weights\n",
    "        'multi_match|cross_fields|url|weight': 10.0,\n",
    "        'multi_match|cross_fields|title|weight': 10.0,\n",
    "        'multi_match|cross_fields|body|weight': 5.17,\n",
    "        'multi_match|best_fields|url|weight': 9.682,\n",
    "        'multi_match|best_fields|title|weight': 10.0,\n",
    "        'multi_match|best_fields|body|weight': 8.746,\n",
    "        # default boosts\n",
    "        'multi_match|cross_fields|boost': 1.0,\n",
    "        'multi_match|best_fields|boost': 1.0,\n",
    "    })"
   ]
  },
  {
   "cell_type": "code",
   "execution_count": 14,
   "metadata": {},
   "outputs": [
    {
     "name": "stdout",
     "output_type": "stream",
     "text": [
      "Score: 0.3011\n",
      "CPU times: user 4.25 s, sys: 1.36 s, total: 5.61 s\n",
      "Wall time: 5min 32s\n"
     ]
    }
   ],
   "source": [
    "%%time\n",
    "\n",
    "# BM25 params from best_fields\n",
    "set_bm25_parameters(es, 'msmarco-document', **best_params_0)\n",
    "\n",
    "results = evaluate_mrr100_dev(es,\n",
    "    template_id='combined',\n",
    "    params={\n",
    "        # optimal weights\n",
    "        'multi_match|cross_fields|url|weight': 10.0,\n",
    "        'multi_match|cross_fields|title|weight': 10.0,\n",
    "        'multi_match|cross_fields|body|weight': 5.17,\n",
    "        'multi_match|best_fields|url|weight': 9.682,\n",
    "        'multi_match|best_fields|title|weight': 10.0,\n",
    "        'multi_match|best_fields|body|weight': 8.746,\n",
    "        # default boosts\n",
    "        'multi_match|cross_fields|boost': 1.0,\n",
    "        'multi_match|best_fields|boost': 1.0,\n",
    "    })"
   ]
  },
  {
   "cell_type": "markdown",
   "metadata": {},
   "source": [
    "That's already quite a better than either the `cross_fields` or `best_fields` queries on their own.\n",
    "\n",
    "As before, let's continue and see if there is an improvement by tuning the boosts on each query. We've got a smaller parameter space to search over, so we'll specify running fewer iterations than before since these queries run a lot slower."
   ]
  },
  {
   "cell_type": "code",
   "execution_count": 69,
   "metadata": {},
   "outputs": [
    {
     "name": "stdout",
     "output_type": "stream",
     "text": [
      "Optimizing parameters\n",
      " - iteration 1 scored 0.2725 with: {'multi_match|cross_fields|boost': 2.547577325223018, 'multi_match|best_fields|boost': 0.5471916531942151}\n",
      " - iteration 2 scored 0.2694 with: {'multi_match|cross_fields|boost': 2.6798639019055748, 'multi_match|best_fields|boost': 1.633720712857639}\n",
      " - iteration 3 scored 0.2683 with: {'multi_match|cross_fields|boost': 3.2768751918169867, 'multi_match|best_fields|boost': 3.2879218237613235}\n",
      " - iteration 4 scored 0.2551 with: {'multi_match|cross_fields|boost': 0.7909425127149035, 'multi_match|best_fields|boost': 4.947870579130785}\n",
      " - iteration 5 scored 0.2697 with: {'multi_match|cross_fields|boost': 2.8534793222286603, 'multi_match|best_fields|boost': 1.4987177123346775}\n",
      " - iteration 6 scored 0.2517 with: {'multi_match|cross_fields|boost': 5.0, 'multi_match|best_fields|boost': 0.0}\n",
      " - iteration 7 scored 0.2517 with: {'multi_match|cross_fields|boost': 1.3248474705567896, 'multi_match|best_fields|boost': 0.0}\n",
      " - iteration 8 scored 0.2719 with: {'multi_match|cross_fields|boost': 2.386340709847591, 'multi_match|best_fields|boost': 0.7999703261879847}\n",
      " - iteration 9 scored 0.2685 with: {'multi_match|cross_fields|boost': 3.1806132954369892, 'multi_match|best_fields|boost': 2.6708021653936114}\n",
      " - iteration 10 scored 0.2680 with: {'multi_match|cross_fields|boost': 3.800755324045408, 'multi_match|best_fields|boost': 3.8796115108619658}\n",
      " - iteration 11 scored 0.2517 with: {'multi_match|cross_fields|boost': 3.5343215899332003, 'multi_match|best_fields|boost': 0.0}\n",
      " - iteration 12 scored 0.2534 with: {'multi_match|cross_fields|boost': 0.19391306322175592, 'multi_match|best_fields|boost': 2.1853243372704165}\n",
      " - iteration 13 scored 0.2695 with: {'multi_match|cross_fields|boost': 4.431151892900113, 'multi_match|best_fields|boost': 2.961681318482838}\n",
      " - iteration 14 scored 0.2711 with: {'multi_match|cross_fields|boost': 4.140405625014104, 'multi_match|best_fields|boost': 1.123968704498692}\n",
      " - iteration 15 scored 0.2514 with: {'multi_match|cross_fields|boost': 0.20188777205695246, 'multi_match|best_fields|boost': 4.289904507472982}\n",
      " - iteration 16 scored 0.2515 with: {'multi_match|cross_fields|boost': 0.1867178371689079, 'multi_match|best_fields|boost': 3.6033608657765965}\n",
      " - iteration 17 scored 0.2657 with: {'multi_match|cross_fields|boost': 4.161691990446297, 'multi_match|best_fields|boost': 5.0}\n",
      " - iteration 18 scored 0.2614 with: {'multi_match|cross_fields|boost': 2.989022232081078, 'multi_match|best_fields|boost': 5.0}\n",
      " - iteration 19 scored 0.2586 with: {'multi_match|cross_fields|boost': 1.958434103907053, 'multi_match|best_fields|boost': 5.0}\n",
      " - iteration 20 scored 0.2683 with: {'multi_match|cross_fields|boost': 5.0, 'multi_match|best_fields|boost': 5.0}\n",
      " - iteration 21 scored 0.2702 with: {'multi_match|cross_fields|boost': 5.0, 'multi_match|best_fields|boost': 2.0064923213523302}\n",
      " - iteration 22 scored 0.2683 with: {'multi_match|cross_fields|boost': 5.0, 'multi_match|best_fields|boost': 0.7018505371393546}\n",
      " - iteration 23 scored 0.2681 with: {'multi_match|cross_fields|boost': 5.0, 'multi_match|best_fields|boost': 4.358464073102425}\n",
      " - iteration 24 scored 0.2517 with: {'multi_match|cross_fields|boost': 0.04506485827066263, 'multi_match|best_fields|boost': 0.7158095889368385}\n",
      " - iteration 25 scored 0.2691 with: {'multi_match|cross_fields|boost': 5.0, 'multi_match|best_fields|boost': 3.5786282054630476}\n",
      " - iteration 26 scored 0.2729 with: {'multi_match|cross_fields|boost': 4.9818012157970495, 'multi_match|best_fields|boost': 1.487097195975832}\n",
      " - iteration 27 scored 0.2694 with: {'multi_match|cross_fields|boost': 3.460508692917358, 'multi_match|best_fields|boost': 2.1064748378953246}\n",
      " - iteration 28 scored 0.2724 with: {'multi_match|cross_fields|boost': 3.2922224905717763, 'multi_match|best_fields|boost': 0.704597779321483}\n",
      " - iteration 29 scored 0.2704 with: {'multi_match|cross_fields|boost': 4.970125522393313, 'multi_match|best_fields|boost': 2.5263096426995113}\n",
      " - iteration 30 scored 0.2622 with: {'multi_match|cross_fields|boost': 2.7709770886645755, 'multi_match|best_fields|boost': 4.383669719440571}\n",
      "Best score: 0.2729\n",
      "Best params: {'multi_match|cross_fields|boost': 4.9818012157970495, 'multi_match|best_fields|boost': 1.487097195975832}\n",
      "Final params: {'multi_match|cross_fields|url|weight': 10.0, 'multi_match|cross_fields|title|weight': 10.0, 'multi_match|cross_fields|body|weight': 5.17, 'multi_match|best_fields|url|weight': 9.682, 'multi_match|best_fields|title|weight': 10.0, 'multi_match|best_fields|body|weight': 8.746, 'multi_match|cross_fields|boost': 4.9818012157970495, 'multi_match|best_fields|boost': 1.487097195975832}\n",
      "\n",
      "CPU times: user 45.6 s, sys: 9.56 s, total: 55.2 s\n",
      "Wall time: 55min 58s\n"
     ]
    }
   ],
   "source": [
    "%%time\n",
    "\n",
    "best_score_3, best_params_3, final_params_3, metadata_3 = optimize_query_mrr100(es,\n",
    "    template_id='combined',\n",
    "    config_space=Config.parse({\n",
    "        'num_iterations': 30,\n",
    "        'num_initial_points': 5,\n",
    "        'space': {\n",
    "            'multi_match|cross_fields|boost': { 'low': 0.0, 'high': 5.0 },\n",
    "            'multi_match|best_fields|boost': { 'low': 0.0, 'high': 5.0 },\n",
    "        },\n",
    "        'default': {\n",
    "            'multi_match|cross_fields|url|weight': 10.0,\n",
    "            'multi_match|cross_fields|title|weight': 10.0,\n",
    "            'multi_match|cross_fields|body|weight': 5.17,\n",
    "            'multi_match|best_fields|url|weight': 9.682,\n",
    "            'multi_match|best_fields|title|weight': 10.0,\n",
    "            'multi_match|best_fields|body|weight': 8.746,\n",
    "        },\n",
    "    }),\n",
    "    verbose=True)"
   ]
  },
  {
   "cell_type": "code",
   "execution_count": 70,
   "metadata": {},
   "outputs": [
    {
     "data": {
      "image/png": "[encoded data removed]",
      "text/plain": [
       "<Figure size 288x288 with 4 Axes>"
      ]
     },
     "metadata": {
      "needs_background": "light"
     },
     "output_type": "display_data"
    }
   ],
   "source": [
    "_ = plot_objective(metadata_3, sample_source='result')"
   ]
  },
  {
   "cell_type": "code",
   "execution_count": 71,
   "metadata": {},
   "outputs": [
    {
     "name": "stdout",
     "output_type": "stream",
     "text": [
      "Score: 0.2930\n",
      "CPU times: user 3.76 s, sys: 1.85 s, total: 5.62 s\n",
      "Wall time: 13min 24s\n"
     ]
    }
   ],
   "source": [
    "%%time\n",
    "\n",
    "results = evaluate_mrr100_dev(es, template_id='combined', params=final_params_3)"
   ]
  },
  {
   "cell_type": "code",
   "execution_count": null,
   "metadata": {},
   "outputs": [],
   "source": []
  },
  {
   "cell_type": "code",
   "execution_count": null,
   "metadata": {},
   "outputs": [],
   "source": []
  },
  {
   "cell_type": "markdown",
   "metadata": {},
   "source": [
    "So that's kind of odd. We couldn't actually find boost parameters that were better than the defaults `1.0`. I wonder what's going on here. Let's break this down and see if we can figure it out.\n",
    "\n",
    "The first thing to note "
   ]
  },
  {
   "cell_type": "code",
   "execution_count": null,
   "metadata": {},
   "outputs": [],
   "source": []
  },
  {
   "cell_type": "code",
   "execution_count": null,
   "metadata": {},
   "outputs": [],
   "source": []
  },
  {
   "cell_type": "code",
   "execution_count": 65,
   "metadata": {},
   "outputs": [],
   "source": [
    "def collect_scores_cross_fields(query_string):\n",
    "    res = es.search(index='msmarco-document', size=100, body={ \"query\": {\n",
    "        \"multi_match\": {\n",
    "            \"type\": \"cross_fields\",\n",
    "            \"query\": query_string,\n",
    "            \"fields\": [\n",
    "                \"url^10.0\",\n",
    "                \"title^10.0\",\n",
    "               \"body^5.17\"\n",
    "            ],\n",
    "            \"operator\": \"OR\",\n",
    "            \"boost\": \"1.0\"\n",
    "      }\n",
    "    }})\n",
    "    return [hit['_score'] for hit in res['hits']['hits']]\n",
    "\n",
    "def collect_scores_best_fields(query_string):\n",
    "    res = es.search(index='msmarco-document', size=100, body={ \"query\": {\n",
    "        \"multi_match\": {\n",
    "            \"type\": \"best_fields\",\n",
    "            \"query\": query_string,\n",
    "            \"fields\": [\n",
    "                \"url^9.682\",\n",
    "                \"title^10.0\",\n",
    "               \"body^8.746\"\n",
    "            ],\n",
    "            \"operator\": \"OR\",\n",
    "            \"boost\": \"1.0\"\n",
    "      }\n",
    "    }})\n",
    "    return [hit['_score'] for hit in res['hits']['hits']]\n",
    "\n",
    "def collect_scores(queries):\n",
    "    cross_field_scores = []\n",
    "    best_field_scores = []\n",
    "\n",
    "    for query in list(queries):\n",
    "        cfs = collect_scores_cross_fields(query[1])\n",
    "        bfs = collect_scores_best_fields(query[1])\n",
    "        \n",
    "        # keep just n scores to make sure the lists are the same length\n",
    "        length = min(len(cfs), len(bfs))\n",
    "        cross_field_scores.append(cfs[:length])\n",
    "        best_field_scores.append(bfs[:length])\n",
    "\n",
    "    return cross_field_scores, best_field_scores"
   ]
  },
  {
   "cell_type": "code",
   "execution_count": 66,
   "metadata": {},
   "outputs": [],
   "source": [
    "from qopt.trec import load_queries_as_tuple\n",
    "from qopt.notebooks import ROOT_DIR\n",
    "\n",
    "queries = load_queries_as_tuple(os.path.join(ROOT_DIR, 'data', 'msmarco-document-sampled-queries.1000.tsv'))\n",
    "cfs, bfs = collect_scores(queries)"
   ]
  },
  {
   "cell_type": "code",
   "execution_count": 67,
   "metadata": {},
   "outputs": [],
   "source": [
    "from itertools import chain\n",
    "\n",
    "cfs_flat = list(chain(*cfs))\n",
    "bfs_flat = list(chain(*bfs))"
   ]
  },
  {
   "cell_type": "code",
   "execution_count": 68,
   "metadata": {},
   "outputs": [
    {
     "data": {
      "image/png": "[encoded data removed]",
      "text/plain": [
       "<Figure size 432x288 with 1 Axes>"
      ]
     },
     "metadata": {
      "needs_background": "light"
     },
     "output_type": "display_data"
    }
   ],
   "source": [
    "import matplotlib.pyplot as plt\n",
    "plt.scatter(cfs_flat, bfs_flat)\n",
    "plt.show()"
   ]
  },
  {
   "cell_type": "code",
   "execution_count": null,
   "metadata": {},
   "outputs": [],
   "source": []
  },
  {
   "cell_type": "code",
   "execution_count": null,
   "metadata": {},
   "outputs": [],
   "source": []
  }
 ],
 "metadata": {
  "kernelspec": {
   "display_name": "Python 3",
   "language": "python",
   "name": "python3"
  },
  "language_info": {
   "codemirror_mode": {
    "name": "ipython",
    "version": 3
   },
   "file_extension": ".py",
   "mimetype": "text/x-python",
   "name": "python",
   "nbconvert_exporter": "python",
   "pygments_lexer": "ipython3",
   "version": "3.7.7"
  }
 },
 "nbformat": 4,
 "nbformat_minor": 4
}
